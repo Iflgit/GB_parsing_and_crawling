{
 "cells": [
  {
   "cell_type": "code",
   "execution_count": 1,
   "metadata": {},
   "outputs": [],
   "source": [
    "from selenium import webdriver\n",
    "from selenium.webdriver.common.keys import Keys\n",
    "from selenium.webdriver.support.ui import WebDriverWait \n",
    "from selenium.webdriver.support import expected_conditions as EC\n",
    "from selenium.webdriver.common.by import By \n",
    "from selenium.common.exceptions import StaleElementReferenceException\n",
    "\n",
    "chrome = webdriver.Chrome()\n",
    "chrome.get('https://mail.ru')\n",
    "assert 'Mail.ru' in chrome.title\n",
    "chrome.implicitly_wait(3000)\n",
    "save_checkbox = WebDriverWait(chrome, 10).until(EC.presence_of_element_located((By.ID, \"mailbox:saveauth\")) )\n",
    "\n",
    "\n",
    "# driver.wait.until(lambda driver: driver.find_element_by_id('mailbox:saveauth'))\n",
    "# save_checkbox = chrome.find_element_by_id(\"mailbox:saveauth\")\n",
    "assert save_checkbox.get_attribute('type') == 'checkbox'\n",
    "\n",
    "if save_checkbox.is_selected():\n",
    "    save_checkbox.click()\n",
    "\n",
    "WebDriverWait(chrome, 10).until(EC.presence_of_element_located((By.ID, \"mailbox:login\"))).send_keys('geektest10')\n",
    "pass_field = WebDriverWait(chrome, 10).until(EC.presence_of_element_located((By.ID, \"mailbox:password\")))\n",
    "pass_field.send_keys('Sample10' + Keys.RETURN)\n",
    "\n",
    "data = WebDriverWait(chrome, 10).until(EC.presence_of_element_located((By.CLASS_NAME, \"b-datalists\")))\n"
   ]
  },
  {
   "cell_type": "code",
   "execution_count": 2,
   "metadata": {},
   "outputs": [
    {
     "name": "stdout",
     "output_type": "stream",
     "text": [
      "15\n"
     ]
    }
   ],
   "source": [
    "data_list = data.find_elements_by_class_name('b-datalist__item__body')\n",
    "print(len(data_list))\n",
    "e_mail_list = []\n",
    "for mail in data_list:\n",
    "    props = mail.text.split('\\n')\n",
    "#     continue\n",
    "#     try:\n",
    "#         anchor_text = mail.find_element_by_tag_name('a').get_attribute('text').lower()\n",
    "#     except StaleElementReferenceException:\n",
    "#         print('a find failed')\n",
    "    if 'РАССЫЛКИ' in props:\n",
    "        continue\n",
    "    props.append(mail.find_element_by_tag_name('a').get_attribute('href'))\n",
    "    e_mail_list.append(props)\n",
    "#     chrome.get(mail_href)\n",
    "#     chrome.back()\n",
    "    # mail_title = mail.find_element_by_tag_name('a').get_attribute('title')\n",
    "\n",
    "# WebDriverWait(chrome, 10).until(EC.presence_of_element_located((By.TAG_NAME, \"input\"))).click()\\"
   ]
  },
  {
   "cell_type": "code",
   "execution_count": 3,
   "metadata": {},
   "outputs": [],
   "source": [
    "for mail in e_mail_list:\n",
    "    chrome.get(mail[-1])\n",
    "    break"
   ]
  },
  {
   "cell_type": "code",
   "execution_count": 4,
   "metadata": {},
   "outputs": [],
   "source": [
    "# chrome.back()"
   ]
  },
  {
   "cell_type": "code",
   "execution_count": 5,
   "metadata": {},
   "outputs": [],
   "source": [
    "_from = WebDriverWait(chrome, 10).until(EC.presence_of_element_located((By.CLASS_NAME, \"b-letter__head__addrs__from\")))"
   ]
  },
  {
   "cell_type": "code",
   "execution_count": 6,
   "metadata": {},
   "outputs": [
    {
     "data": {
      "text/plain": [
       "'geektest10@mail.ru'"
      ]
     },
     "execution_count": 6,
     "metadata": {},
     "output_type": "execute_result"
    }
   ],
   "source": [
    "_from.find_element_by_tag_name('span').get_attribute('data-contact-informer-email')"
   ]
  },
  {
   "cell_type": "code",
   "execution_count": 7,
   "metadata": {},
   "outputs": [],
   "source": [
    "_body = chrome.find_element_by_class_name(\"b-letter__details\")\n",
    "# ('div.letter-body__body-wrapper table tbody').text"
   ]
  },
  {
   "cell_type": "code",
   "execution_count": 8,
   "metadata": {},
   "outputs": [],
   "source": [
    "# chrome.find_element_by_css_selector('div.letter-body__body-wrapper table tbody').text"
   ]
  },
  {
   "cell_type": "code",
   "execution_count": 11,
   "metadata": {},
   "outputs": [
    {
     "data": {
      "text/plain": [
       "<selenium.webdriver.remote.webelement.WebElement (session=\"28af87bb877d0dfedcd9b06d95355703\", element=\"345b4e32-c4b2-468d-bbc0-eb48e04cd394\")>"
      ]
     },
     "execution_count": 11,
     "metadata": {},
     "output_type": "execute_result"
    }
   ],
   "source": [
    "_body"
   ]
  },
  {
   "cell_type": "code",
   "execution_count": null,
   "metadata": {},
   "outputs": [],
   "source": []
  }
 ],
 "metadata": {
  "kernelspec": {
   "display_name": "Python 3",
   "language": "python",
   "name": "python3"
  },
  "language_info": {
   "codemirror_mode": {
    "name": "ipython",
    "version": 3
   },
   "file_extension": ".py",
   "mimetype": "text/x-python",
   "name": "python",
   "nbconvert_exporter": "python",
   "pygments_lexer": "ipython3",
   "version": "3.7.3"
  }
 },
 "nbformat": 4,
 "nbformat_minor": 2
}
